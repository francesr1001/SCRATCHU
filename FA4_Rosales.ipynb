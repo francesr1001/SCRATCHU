{
 "cells": [
  {
   "cell_type": "markdown",
   "id": "02fcfa4c",
   "metadata": {},
   "source": [
    "\n",
    "        \n",
    "<div> \n",
    "\t\t\t<h2 style =\" margin-top: 5px;\" >&emsp;&emsp;&emsp;&emsp;Name: Frances Aneth Rosales <br> &emsp;&emsp;&emsp;&emsp;Student Number: 2021044631  </h2>\n",
    "</div>\n",
    "\t\t<br><br><br>\n",
    "        \n",
    "        \n"
   ]
  },
  {
   "cell_type": "markdown",
   "id": "dc1063fb",
   "metadata": {},
   "source": [
    "Initialize the data sheets and frames\n"
   ]
  },
  {
   "cell_type": "code",
   "execution_count": 108,
   "id": "e07a2762",
   "metadata": {},
   "outputs": [],
   "source": [
    "import pandas as pd\n",
    "import numpy as np\n",
    "\n",
    "file_path = \"datasets.xlsx\"  \n",
    "data_sheet = pd.read_excel(file_path, sheet_name=\"Data_Sheet\")\n",
    "\n",
    "a_data = data_sheet[\"A\"].values  \n",
    "b_data = data_sheet[\"B\"].values  \n",
    "\n",
    "\n",
    "datframe_a = pd.DataFrame({\"Sample Value A\": a_data})\n",
    "datframe_b = pd.DataFrame({\"Sample Value B\": b_data})\n"
   ]
  },
  {
   "cell_type": "markdown",
   "id": "624cbb99",
   "metadata": {},
   "source": [
    "<br> <br>\n",
    "\n",
    "\n",
    "\n",
    "# List all samples of size n=2 that are possible (with replacement) from the population in Problem 8.17.\n"
   ]
  },
  {
   "cell_type": "code",
   "execution_count": 109,
   "id": "e601ad29",
   "metadata": {},
   "outputs": [
    {
     "name": "stdout",
     "output_type": "stream",
     "text": [
      "   Sample Mean\n",
      "0          9.0\n",
      "1         10.5\n",
      "2         12.0\n",
      "3         10.5\n",
      "4         12.0\n",
      "5         13.5\n",
      "6         12.0\n",
      "7         13.5\n",
      "8         15.0\n",
      "12.0\n"
     ]
    }
   ],
   "source": [
    "c_data = []\n",
    "mean=0\n",
    "sum_mean=0\n",
    "for i in range(len(data_sheet)):\n",
    "    mean = (data_sheet[\"A\"].iloc[i] + data_sheet[\"B\"].iloc[i])/2\n",
    "    sum_mean += mean\n",
    "    c_data.append(mean)\n",
    "\n",
    "datframe_c = pd.DataFrame({\"Sample Mean\": c_data})\n",
    "print(datframe_c)\n",
    "\n",
    "c_ave_mean= sum_mean/len(data_sheet)\n",
    "print(c_ave_mean)"
   ]
  },
  {
   "cell_type": "code",
   "execution_count": 110,
   "id": "fee4d82a",
   "metadata": {
    "scrolled": true
   },
   "outputs": [
    {
     "name": "stdout",
     "output_type": "stream",
     "text": [
      "   xbar\n",
      "0   9.0\n",
      "1  10.5\n",
      "2  12.0\n",
      "3  13.5\n",
      "4  15.0\n",
      "5\n"
     ]
    }
   ],
   "source": [
    "d_data = []\n",
    "\n",
    "for value in c_data:\n",
    "    if value not in d_data:\n",
    "        d_data.append(value)\n",
    "datframe_d = pd.DataFrame({\"xbar\": d_data})\n",
    "print(datframe_d)\n",
    "print(len(d_data))\n",
    "\n"
   ]
  },
  {
   "cell_type": "code",
   "execution_count": 111,
   "id": "9e452db4",
   "metadata": {},
   "outputs": [
    {
     "name": "stdout",
     "output_type": "stream",
     "text": [
      "    p(xbar)\n",
      "0  0.111111\n",
      "1  0.222222\n",
      "2  0.333333\n",
      "3  0.222222\n",
      "4  0.111111\n",
      "5\n"
     ]
    }
   ],
   "source": [
    "e_data = []\n",
    "\n",
    "for i in range(len(d_data)):\n",
    "    d_value = d_data[i]\n",
    "    d_count = c_data.count(d_value)\n",
    "    p_xbar = d_count/len(c_data)\n",
    "    e_data.append(p_xbar)\n",
    "datframe_e = pd.DataFrame({\"p(xbar)\": e_data})\n",
    "print(datframe_e)\n",
    "print(len(e_data))"
   ]
  },
  {
   "cell_type": "code",
   "execution_count": 112,
   "id": "c3a6b5bd",
   "metadata": {},
   "outputs": [
    {
     "name": "stdout",
     "output_type": "stream",
     "text": [
      "   COLUMN F\n",
      "0  1.000000\n",
      "1  2.333333\n",
      "2  4.000000\n",
      "3  3.000000\n",
      "4  1.666667\n"
     ]
    },
    {
     "data": {
      "text/plain": [
       "11.999999999999998"
      ]
     },
     "execution_count": 112,
     "metadata": {},
     "output_type": "execute_result"
    }
   ],
   "source": [
    "f_data = []\n",
    "f_value=1\n",
    "sum_f= 0\n",
    "for i in range(len(d_data)):\n",
    "    f_value = d_data[i]*e_data[i]\n",
    "    f_data.append(f_value)\n",
    "    sum_f += f_value\n",
    "    \n",
    "datframe_f = pd.DataFrame({\"COLUMN F\": f_data})\n",
    "print(datframe_f)\n",
    "sum_f\n",
    "\n"
   ]
  },
  {
   "cell_type": "code",
   "execution_count": 113,
   "id": "acdfb691",
   "metadata": {
    "scrolled": true
   },
   "outputs": [
    {
     "name": "stdout",
     "output_type": "stream",
     "text": [
      "   COLUMN G\n",
      "0       9.0\n",
      "1      24.5\n",
      "2      48.0\n",
      "3      40.5\n",
      "4      25.0\n"
     ]
    },
    {
     "data": {
      "text/plain": [
       "''"
      ]
     },
     "execution_count": 113,
     "metadata": {},
     "output_type": "execute_result"
    }
   ],
   "source": [
    "g_data = []\n",
    "g_value=1\n",
    "sum_g= 0\n",
    "for i in range(len(d_data)):\n",
    "    g_value = (d_data[i]*d_data[i])*e_data[i]\n",
    "    g_data.append(g_value)\n",
    "    sum_g += g_value\n",
    "    \n",
    "datframe_g = pd.DataFrame({\"COLUMN G\": g_data})\n",
    "print(datframe_g)\n",
    "sum_g\n",
    "\n",
    "''"
   ]
  },
  {
   "cell_type": "code",
   "execution_count": null,
   "id": "6927b233",
   "metadata": {},
   "outputs": [],
   "source": []
  },
  {
   "cell_type": "markdown",
   "id": "df7719a3",
   "metadata": {},
   "source": [
    "# Showing  μ $\\bar{x}$ =  μ.\n"
   ]
  },
  {
   "cell_type": "code",
   "execution_count": null,
   "id": "5a8df2ca",
   "metadata": {},
   "outputs": [],
   "source": [
    "\n",
    "\n",
    "sum_c= 0\n",
    "ave=0 \n",
    "for i in c_data:\n",
    "    sum_c += i\n",
    "ave= sum_c/len(c_data)\n",
    "sum_c\n",
    "\n",
    "\n",
    "\n",
    "sum_f= 0\n",
    "for i in f_data:\n",
    "    sum_f += i\n",
    "\n",
    "sum_f\n",
    "\n",
    "print(ave,\"is Equals ≈ to\",sum_f)\n",
    "\n"
   ]
  },
  {
   "cell_type": "markdown",
   "id": "07698e3a",
   "metadata": {},
   "source": [
    "# Showing $\\sigma^2$ $\\bar{x}$ = $\\sigma^2$ / 2.\n"
   ]
  },
  {
   "cell_type": "markdown",
   "id": "25e22fb2",
   "metadata": {},
   "source": [
    "Show $\\sigma^2$ $\\bar{x}$"
   ]
  },
  {
   "cell_type": "code",
   "execution_count": null,
   "id": "8be18dbe",
   "metadata": {},
   "outputs": [],
   "source": [
    "c_sigma_sum=0\n",
    "for i in range(len(data_sheet)):\n",
    "    c_sigma_sum += (((c_data[i])-12)*((c_data[i])-12))\n",
    "\n",
    "c_sigma_over_mean= c_sigma_sum/len(data_sheet) \n",
    "print(c_sigma_over_mean)\n",
    "\n"
   ]
  },
  {
   "cell_type": "markdown",
   "id": "108d5a3e",
   "metadata": {},
   "source": [
    "We will get the $\\sigma^2$/2 of A"
   ]
  },
  {
   "cell_type": "code",
   "execution_count": null,
   "id": "9b0ed260",
   "metadata": {},
   "outputs": [],
   "source": [
    "a_sigma_sum=0\n",
    "for i in range(len(data_sheet)):\n",
    "    a_sigma_sum += (((data_sheet[\"A\"].iloc[i])-12)*((data_sheet[\"A\"].iloc[i])-12))\n",
    "\n",
    "a_sigma_over_mean= a_sigma_sum/len(data_sheet)  \n",
    "a_sigma_over_mean_over2 =  a_sigma_over_mean/2\n",
    "print(a_sigma_over_mean_over2)"
   ]
  },
  {
   "cell_type": "markdown",
   "id": "d72a5a3c",
   "metadata": {},
   "source": [
    "We will get the $\\sigma^2$/2 of B"
   ]
  },
  {
   "cell_type": "code",
   "execution_count": null,
   "id": "3de6f23a",
   "metadata": {},
   "outputs": [],
   "source": [
    "b_sigma_sum=0\n",
    "for i in range(len(data_sheet)):\n",
    "    b_sigma_sum += (((data_sheet[\"B\"].iloc[i])-12)*((data_sheet[\"B\"].iloc[i])-12))\n",
    "\n",
    "b_sigma_over_mean= b_sigma_sum/len(data_sheet)  \n",
    "b_sigma_over_mean_over2 =  b_sigma_over_mean/2\n",
    "print(b_sigma_over_mean_over2)"
   ]
  },
  {
   "cell_type": "markdown",
   "id": "7ddcd332",
   "metadata": {},
   "source": [
    "# THEREFORE HERE, WE HAVE SHOWN THAT μ $\\bar{x}$ =  μ. AND  $\\sigma^2$ $\\bar{x}$ = $\\sigma^2$ / 2. "
   ]
  },
  {
   "cell_type": "markdown",
   "id": "55ccda53",
   "metadata": {},
   "source": [
    "A population consists of the five numbers 2, 3, 6, 8, and 11. Consider all possible samples of size 2\n",
    "that can be drawn with replacement from this population."
   ]
  },
  {
   "cell_type": "markdown",
   "id": "209421a6",
   "metadata": {},
   "source": [
    "\n",
    "# Find (a) the mean of the population"
   ]
  },
  {
   "cell_type": "code",
   "execution_count": null,
   "id": "cb05623d",
   "metadata": {},
   "outputs": [],
   "source": [
    "\n",
    "array_pop = [3, 7, 11, 15]\n",
    "\n",
    "array_pop_sum=0\n",
    "for i in range(len(array_pop)):\n",
    "    array_pop_sum += (array_pop[i])\n",
    "\n",
    "array_pop_mean= array_pop_sum/len(array_pop) \n",
    "print(array_pop_mean)\n",
    "\n",
    "\n",
    "\n"
   ]
  },
  {
   "cell_type": "markdown",
   "id": "ca599043",
   "metadata": {},
   "source": [
    "# (b) the standard deviation of the population"
   ]
  },
  {
   "cell_type": "code",
   "execution_count": null,
   "id": "c69d4bc7",
   "metadata": {},
   "outputs": [],
   "source": [
    "\n",
    "array_pop = [3, 7, 11, 15]\n",
    "\n",
    "std_sum_array_pop=0\n",
    "for i in range(len(array_pop)):\n",
    "    std_sum_array_pop += ((array_pop[i])-array_pop_mean)*((array_pop[i])-array_pop_mean)\n",
    "\n",
    "std_array_pop= std_sum_array_pop/len(array_pop)  \n",
    "print(std_array_pop)\n",
    "\n",
    "\n",
    "\n"
   ]
  },
  {
   "cell_type": "markdown",
   "id": "6c72cc6a",
   "metadata": {},
   "source": [
    "# (c) the mean of the sampling distribution of means\n",
    "Now, we have 4(4) = 16 samples of size 2"
   ]
  },
  {
   "cell_type": "code",
   "execution_count": null,
   "id": "c112b79f",
   "metadata": {},
   "outputs": [],
   "source": [
    "\n",
    "import itertools\n",
    "\n",
    "combinations = list(itertools.product(array_pop, repeat=2))\n",
    "\n",
    "\n",
    "# Calculate the means for each combination\n",
    "corres_mean = [sum(combination) / 2 for combination in combinations]\n",
    "\n",
    "\n",
    "# Print the corresponding means\n",
    "print(\"Corresponding means:\", corres_mean)\n",
    "\n",
    "\n",
    "sum_mean_array_pop=0\n",
    "for i in range(len(corres_mean)):\n",
    "    sum_mean_array_pop += ((corres_mean[i]))\n",
    "\n",
    "\n",
    "mean_value= sum_mean_array_pop / len(combinations)\n",
    "print(\"The mean of Sampling Mean is:\", mean_value)\n"
   ]
  },
  {
   "cell_type": "markdown",
   "id": "6baa9eb7",
   "metadata": {},
   "source": [
    "# (d ) the standard deviation of the sampling distribution of means."
   ]
  },
  {
   "cell_type": "code",
   "execution_count": 115,
   "id": "ae42afe9",
   "metadata": {},
   "outputs": [
    {
     "ename": "NameError",
     "evalue": "name 'combinations' is not defined",
     "output_type": "error",
     "traceback": [
      "\u001b[1;31m---------------------------------------------------------------------------\u001b[0m",
      "\u001b[1;31mNameError\u001b[0m                                 Traceback (most recent call last)",
      "Cell \u001b[1;32mIn[115], line 2\u001b[0m\n\u001b[0;32m      1\u001b[0m newstd_sum_array_pop\u001b[38;5;241m=\u001b[39m\u001b[38;5;241m0\u001b[39m\n\u001b[1;32m----> 2\u001b[0m \u001b[38;5;28;01mfor\u001b[39;00m i \u001b[38;5;129;01min\u001b[39;00m \u001b[38;5;28mrange\u001b[39m(\u001b[38;5;28mlen\u001b[39m(\u001b[43mcombinations\u001b[49m)):\n\u001b[0;32m      3\u001b[0m     newstd_sum_array_pop \u001b[38;5;241m+\u001b[39m\u001b[38;5;241m=\u001b[39m ((corres_mean[i])\u001b[38;5;241m-\u001b[39marray_pop_mean)\u001b[38;5;241m*\u001b[39m((corres_mean[i])\u001b[38;5;241m-\u001b[39marray_pop_mean)\n\u001b[0;32m      5\u001b[0m newstd_array_pop\u001b[38;5;241m=\u001b[39m newstd_sum_array_pop\u001b[38;5;241m/\u001b[39m\u001b[38;5;28mlen\u001b[39m(combinations)  \n",
      "\u001b[1;31mNameError\u001b[0m: name 'combinations' is not defined"
     ]
    }
   ],
   "source": [
    "\n",
    "\n",
    "newstd_sum_array_pop=0\n",
    "for i in range(len(combinations)):\n",
    "    newstd_sum_array_pop += ((corres_mean[i])-array_pop_mean)*((corres_mean[i])-array_pop_mean)\n",
    "\n",
    "newstd_array_pop= newstd_sum_array_pop/len(combinations)  \n",
    "print(newstd_array_pop)\n",
    "\n",
    "\n",
    "\n"
   ]
  }
 ],
 "metadata": {
  "kernelspec": {
   "display_name": "Python 3 (ipykernel)",
   "language": "python",
   "name": "python3"
  },
  "language_info": {
   "codemirror_mode": {
    "name": "ipython",
    "version": 3
   },
   "file_extension": ".py",
   "mimetype": "text/x-python",
   "name": "python",
   "nbconvert_exporter": "python",
   "pygments_lexer": "ipython3",
   "version": "3.11.3"
  }
 },
 "nbformat": 4,
 "nbformat_minor": 5
}
